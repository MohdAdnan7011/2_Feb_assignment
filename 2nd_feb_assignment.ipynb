{
 "cells": [
  {
   "cell_type": "code",
   "execution_count": 1,
   "id": "3a69fc09-92d9-45ee-a627-c55bf00a5a45",
   "metadata": {},
   "outputs": [],
   "source": [
    "#Question no 1"
   ]
  },
  {
   "cell_type": "code",
   "execution_count": 2,
   "id": "f9b9c816-c842-45e3-b94d-4c4694bfd0e8",
   "metadata": {},
   "outputs": [],
   "source": [
    "#For loop is a single line command that will be executed repeteadly\n",
    "#While loop is single or multi line command"
   ]
  },
  {
   "cell_type": "code",
   "execution_count": 3,
   "id": "48b4968c-8c55-4eb2-95eb-6839e1c61dca",
   "metadata": {},
   "outputs": [
    {
     "name": "stdout",
     "output_type": "stream",
     "text": [
      "1\n",
      "2\n",
      "3\n",
      "4\n",
      "5\n",
      "6\n",
      "7\n",
      "8\n",
      "9\n",
      "10\n"
     ]
    }
   ],
   "source": [
    "a = 1\n",
    "while a< 11:\n",
    "    print(a)\n",
    "    a = a+1\n",
    "    "
   ]
  },
  {
   "cell_type": "code",
   "execution_count": 4,
   "id": "62fff7db-4c3e-4b82-8c1c-8c1721f100d7",
   "metadata": {},
   "outputs": [],
   "source": [
    "l = [1,2,3,4,5,6,7,8,9]"
   ]
  },
  {
   "cell_type": "code",
   "execution_count": 5,
   "id": "f02badda-6ad7-4761-a2ac-0ba824786833",
   "metadata": {},
   "outputs": [
    {
     "name": "stdout",
     "output_type": "stream",
     "text": [
      "1\n",
      "2\n",
      "3\n",
      "4\n",
      "5\n",
      "6\n",
      "7\n",
      "8\n",
      "9\n"
     ]
    }
   ],
   "source": [
    "for i in range(len(l)):\n",
    "    \n",
    "        print(l[i])\n",
    "        "
   ]
  },
  {
   "cell_type": "code",
   "execution_count": 6,
   "id": "565d6920-01f8-4f66-bb2d-1ef77f5a4744",
   "metadata": {},
   "outputs": [
    {
     "ename": "IndentationError",
     "evalue": "unexpected indent (3872024446.py, line 2)",
     "output_type": "error",
     "traceback": [
      "\u001b[0;36m  Cell \u001b[0;32mIn[6], line 2\u001b[0;36m\u001b[0m\n\u001b[0;31m    l = [1,2,3,4,5,6,7,8,9,10]\u001b[0m\n\u001b[0m    ^\u001b[0m\n\u001b[0;31mIndentationError\u001b[0m\u001b[0;31m:\u001b[0m unexpected indent\n"
     ]
    }
   ],
   "source": [
    " # Question no 2\n",
    "    l = [1,2,3,4,5,6,7,8,9,10]"
   ]
  },
  {
   "cell_type": "code",
   "execution_count": null,
   "id": "526849fb-b400-466e-85b9-49979a0074f5",
   "metadata": {},
   "outputs": [],
   "source": [
    "d = 0\n",
    "for i in l:\n",
    "    d = d +i\n",
    "    print(d)\n",
    "   # d = d +i"
   ]
  },
  {
   "cell_type": "code",
   "execution_count": null,
   "id": "d095c4c5-18b6-4eb6-b66a-10c5da42121a",
   "metadata": {},
   "outputs": [],
   "source": [
    "d = 1\n",
    "for i in l:\n",
    "    d = d *i\n",
    "    print(d)"
   ]
  },
  {
   "cell_type": "code",
   "execution_count": null,
   "id": "7e536276-4a7f-4130-a134-073c8072711f",
   "metadata": {},
   "outputs": [],
   "source": [
    "# Using while loop \n",
    "n = int(input(\"Enter the number\"))\n",
    "if n< 0 :\n",
    "    print(\"Enter a positive number\")\n",
    "else :\n",
    "    d = 0\n",
    "while n > 0 :\n",
    "    d = d + n\n",
    "    \n",
    "    n = n - 1\n",
    "    print(\"The result is\", d)\n",
    "    "
   ]
  },
  {
   "cell_type": "code",
   "execution_count": null,
   "id": "82f7d954-2b51-40d2-9380-94c9baf5134b",
   "metadata": {},
   "outputs": [],
   "source": [
    "# Using while loop \n",
    "n = int(input(\"Enter the number\"))\n",
    "if n< 0 :\n",
    "    print(\"Enter a positive number\")\n",
    "else :\n",
    "    d = 1\n",
    "while n > 0 :\n",
    "    d = d * n\n",
    "    \n",
    "    n = n - 1\n",
    "    print(\"The result is\", d)"
   ]
  },
  {
   "cell_type": "code",
   "execution_count": null,
   "id": "831a80d9-a586-476e-8927-09f77ac642ad",
   "metadata": {},
   "outputs": [],
   "source": [
    "n = int(input(\"Enter the number\"))\n",
    "list(range(n))\n",
    " \n"
   ]
  },
  {
   "cell_type": "code",
   "execution_count": 7,
   "id": "596875b9-edbf-4776-9f2d-c585d368b3c8",
   "metadata": {},
   "outputs": [],
   "source": [
    "#Question no 4\n",
    "l = []\n",
    "for i in range(101):\n",
    "    l.append(i*i*i)\n",
    "    "
   ]
  },
  {
   "cell_type": "code",
   "execution_count": 8,
   "id": "b7403817-f54b-466b-b918-ca5166289461",
   "metadata": {},
   "outputs": [],
   "source": [
    "l2 = []\n",
    "for i in l:\n",
    "    if i%4 == 0 or i%5==0 :\n",
    "        l2.append(i)\n",
    "     \n",
    "    "
   ]
  },
  {
   "cell_type": "code",
   "execution_count": 9,
   "id": "fac059c8-78ee-4c0e-a639-4a6aac3cff46",
   "metadata": {},
   "outputs": [
    {
     "data": {
      "text/plain": [
       "[0,\n",
       " 8,\n",
       " 64,\n",
       " 125,\n",
       " 216,\n",
       " 512,\n",
       " 1000,\n",
       " 1728,\n",
       " 2744,\n",
       " 3375,\n",
       " 4096,\n",
       " 5832,\n",
       " 8000,\n",
       " 10648,\n",
       " 13824,\n",
       " 15625,\n",
       " 17576,\n",
       " 21952,\n",
       " 27000,\n",
       " 32768,\n",
       " 39304,\n",
       " 42875,\n",
       " 46656,\n",
       " 54872,\n",
       " 64000,\n",
       " 74088,\n",
       " 85184,\n",
       " 91125,\n",
       " 97336,\n",
       " 110592,\n",
       " 125000,\n",
       " 140608,\n",
       " 157464,\n",
       " 166375,\n",
       " 175616,\n",
       " 195112,\n",
       " 216000,\n",
       " 238328,\n",
       " 262144,\n",
       " 274625,\n",
       " 287496,\n",
       " 314432,\n",
       " 343000,\n",
       " 373248,\n",
       " 405224,\n",
       " 421875,\n",
       " 438976,\n",
       " 474552,\n",
       " 512000,\n",
       " 551368,\n",
       " 592704,\n",
       " 614125,\n",
       " 636056,\n",
       " 681472,\n",
       " 729000,\n",
       " 778688,\n",
       " 830584,\n",
       " 857375,\n",
       " 884736,\n",
       " 941192,\n",
       " 1000000]"
      ]
     },
     "execution_count": 9,
     "metadata": {},
     "output_type": "execute_result"
    }
   ],
   "source": [
    "l2\n"
   ]
  },
  {
   "cell_type": "code",
   "execution_count": 30,
   "id": "66d86af4-cd4c-469b-ae8b-e27535d5329c",
   "metadata": {},
   "outputs": [
    {
     "name": "stdout",
     "output_type": "stream",
     "text": [
      "Number of vowel is  12\n"
     ]
    }
   ],
   "source": [
    "#Question no 5\n",
    "d = \"i want to become a data scientist\"\n",
    "e = 0\n",
    "for i in d:\n",
    "    if i == 'a'or i== 'e' or i== 'u' or i== 'i' or i== 'o' :\n",
    "        e = e + 1\n",
    "print(\"Number of vowel is \", e)\n",
    "        "
   ]
  },
  {
   "cell_type": "code",
   "execution_count": null,
   "id": "1c94cfd6-e0e0-4cd0-b980-783dc3aea14e",
   "metadata": {},
   "outputs": [],
   "source": [
    " "
   ]
  },
  {
   "cell_type": "code",
   "execution_count": 31,
   "id": "7331a1e2-c57e-48df-a7b7-c41d804aa263",
   "metadata": {},
   "outputs": [
    {
     "name": "stdin",
     "output_type": "stream",
     "text": [
      "Enter the unit 315\n"
     ]
    },
    {
     "ename": "TypeError",
     "evalue": "'int' object is not iterable",
     "output_type": "error",
     "traceback": [
      "\u001b[0;31m---------------------------------------------------------------------------\u001b[0m",
      "\u001b[0;31mTypeError\u001b[0m                                 Traceback (most recent call last)",
      "Cell \u001b[0;32mIn[31], line 3\u001b[0m\n\u001b[1;32m      1\u001b[0m n \u001b[38;5;241m=\u001b[39m \u001b[38;5;28mint\u001b[39m(\u001b[38;5;28minput\u001b[39m(\u001b[38;5;124m\"\u001b[39m\u001b[38;5;124mEnter the unit\u001b[39m\u001b[38;5;124m\"\u001b[39m))\n\u001b[1;32m      2\u001b[0m bill \u001b[38;5;241m=\u001b[39m \u001b[38;5;241m0\u001b[39m\n\u001b[0;32m----> 3\u001b[0m \u001b[38;5;28;01mfor\u001b[39;00m i \u001b[38;5;129;01min\u001b[39;00m n:\n\u001b[1;32m      4\u001b[0m     \u001b[38;5;28;01mif\u001b[39;00m n \u001b[38;5;241m<\u001b[39m\u001b[38;5;241m=\u001b[39m \u001b[38;5;241m100\u001b[39m:\n\u001b[1;32m      5\u001b[0m         bill \u001b[38;5;241m=\u001b[39m n\u001b[38;5;241m*\u001b[39m\u001b[38;5;241m4.5\u001b[39m\n",
      "\u001b[0;31mTypeError\u001b[0m: 'int' object is not iterable"
     ]
    }
   ],
   "source": [
    "n = int(input(\"Enter the unit\"))\n",
    "bill = 0\n",
    "for i in n:\n",
    "    if n <= 100:\n",
    "        bill = n*4.5\n",
    "    elif n > 100 or n <= 200 :\n",
    "        bill = n*6\n",
    "    elif n > 200 or n <= 300 :\n",
    "        bill = n*10\n",
    "    else :\n",
    "        bill = n * 20\n",
    "print(\"The total amount is \", bill)       "
   ]
  },
  {
   "cell_type": "code",
   "execution_count": null,
   "id": "1b90a403-9643-4004-b8ac-5f9775ad6f01",
   "metadata": {},
   "outputs": [],
   "source": []
  }
 ],
 "metadata": {
  "kernelspec": {
   "display_name": "Python 3 (ipykernel)",
   "language": "python",
   "name": "python3"
  },
  "language_info": {
   "codemirror_mode": {
    "name": "ipython",
    "version": 3
   },
   "file_extension": ".py",
   "mimetype": "text/x-python",
   "name": "python",
   "nbconvert_exporter": "python",
   "pygments_lexer": "ipython3",
   "version": "3.10.8"
  }
 },
 "nbformat": 4,
 "nbformat_minor": 5
}
